{
 "cells": [
  {
   "cell_type": "code",
   "execution_count": 1,
   "metadata": {},
   "outputs": [],
   "source": [
    "\n",
    "from sklearn import datasets\n",
    "import matplotlib.pyplot as plt\n",
    "import numpy as np\n",
    "import pandas as pd\n",
    "from sklearn.ensemble import RandomForestClassifier\n",
    "from sklearn.svm import SVC\n",
    "from sklearn.preprocessing import normalize\n",
    "from sklearn import metrics\n",
    "from sklearn.model_selection import StratifiedKFold\n",
    "\n",
    "    "
   ]
  },
  {
   "cell_type": "code",
   "execution_count": 2,
   "metadata": {},
   "outputs": [],
   "source": [
    "#Funzione per calcolare la specificità (o almeno dovrebbe) TrueNeg/TotNeg\n",
    "\n",
    "def specificity_score(ypred,y):\n",
    "    tn=np.sum((ypred==0) & (y==0))\n",
    "    totneg=np.sum(y==0)\n",
    "  \n",
    "    #print(\"tn: \", tn)\n",
    "    \n",
    "    #print(\"totneg: \", totneg)\n",
    "    \n",
    "    print (tn/totneg)"
   ]
  },
  {
   "cell_type": "code",
   "execution_count": 3,
   "metadata": {},
   "outputs": [],
   "source": [
    "def sensitivity_score(ypred,y):\n",
    "    tp=np.sum((ypred==1) & (y==1))\n",
    "    print(\"tp\")\n",
    "    totpos=np.sum(y==1)\n",
    "    print(tp)\n",
    "    print(\"sum ypred:\")\n",
    "    print(sum(ypred==1))\n",
    "    print(\"sum y:\")\n",
    "    print(sum(y==1))\n",
    "    print(\"totpos\")\n",
    "    \n",
    "    #Non mi ritrovo nel dividere tutto per \"ypred.shape[0]\" la sensibilità è TruePos/totPos\n",
    "    \n",
    "    print(totpos)\n",
    "    print(tp/totpos)\n",
    "    \n",
    "    "
   ]
  },
  {
   "cell_type": "code",
   "execution_count": 4,
   "metadata": {},
   "outputs": [],
   "source": [
    "#funzione per calcolare F_score (o almeno dovrebbe) TruePos/(TruePos+ 1/2 (FalsePos+FalseNeg)) \n",
    "def f_score(ypred, y):\n",
    "    tp=np.sum((ypred==1) & (y==1))\n",
    "    fp=np.sum(ypred==1)-tp\n",
    "    tn=np.sum((ypred==0) & (y==0))\n",
    "    fn=np.sum(ypred==0)-tn\n",
    "    \n",
    "    print(tp/(tp+0.5*(fp+fn)))\n",
    "    "
   ]
  },
  {
   "cell_type": "code",
   "execution_count": 5,
   "metadata": {},
   "outputs": [
    {
     "name": "stdout",
     "output_type": "stream",
     "text": [
      "sensitivity: \n",
      "tp\n",
      "38\n",
      "sum ypred:\n",
      "59\n",
      "sum y:\n",
      "87\n",
      "totpos\n",
      "87\n",
      "0.4367816091954023\n",
      "Accuracy: 0.7674418604651163\n",
      "specificity: \n",
      "0.9018691588785047\n",
      "F_score: \n",
      "0.5205479452054794\n"
     ]
    }
   ],
   "source": [
    "#carico il dataset\n",
    "data = pd.read_csv(r'C:\\Users\\Utente\\anaconda3\\Lib\\site-packages\\pandas\\io\\data_covnet_score-imputed_missRF_increasing_1.txt')\n",
    "#print(data)\n",
    "\n",
    "#marco\n",
    "#iris = datasets.load_iris()\n",
    "#target = iris.target\n",
    "\n",
    "#assegno nome alla colonna di 0-1 e la trasformo in array\n",
    "y=data['LABEL']\n",
    "y=y.to_numpy()\n",
    "#print(y)\n",
    "#prendo le ultime due colonne del dataset e le trasformo in array\n",
    "del data['LABEL']\n",
    "altri=data\n",
    "altri=altri.to_numpy()\n",
    "#print (altri)\n",
    "\n",
    "\n",
    "#marco\n",
    "#sepalo=iris.data[:,:2]\n",
    "#y_pred = np.ones((sepalo.shape[0], 1))\n",
    "\n",
    "#creo un array monodimensionale lungo quanto \"altri\" ma solo di 0. \n",
    "y_pred=y-y\n",
    "\n",
    "\n",
    "\n",
    "#crea un oggetto pronto ad operare: quando gli arriva in input qualcosa lo divide in 10 pezzettini con la stessa proporzione\n",
    "skf = StratifiedKFold(n_splits=10)\n",
    "#rf=....\n",
    "\n",
    "rf = RandomForestClassifier(n_estimators = 100, random_state = 35)\n",
    "\n",
    "for train_index, test_index in skf.split(altri, y):\n",
    "\n",
    "    X_train, X_test = altri[train_index,:], altri[test_index,:]\n",
    "    #print(X_t.shape)\n",
    "    #print(X_train, X_test)\n",
    "    y_train, y_test = y[train_index], y[test_index]\n",
    "    #print(np.sum(y_train==0))\n",
    "    #quisotto dovrò fare rf.fit e rf.predict\n",
    "    clf = rf.fit(X_train, y_train)\n",
    "    y_pred[test_index] = clf.predict(X_test)\n",
    "    \n",
    "    #fine ciclo for\n",
    "    \n",
    "\n",
    "#calcolo l'sensitività\n",
    "print(\"sensitivity: \")\n",
    "sensitivity_score(y_pred, y)\n",
    "\n",
    "# calcolo accuratezza\n",
    "print(\"Accuracy:\",metrics.accuracy_score(y_pred, y))\n",
    "\n",
    "#calcolo la specificità\n",
    "print(\"specificity: \")\n",
    "specificity_score(y_pred,y)\n",
    "\n",
    "#calcolo F_score\n",
    "print(\"F_score: \")\n",
    "f_score(y_pred, y)"
   ]
  },
  {
   "cell_type": "code",
   "execution_count": null,
   "metadata": {},
   "outputs": [],
   "source": []
  }
 ],
 "metadata": {
  "kernelspec": {
   "display_name": "Python 3",
   "language": "python",
   "name": "python3"
  },
  "language_info": {
   "codemirror_mode": {
    "name": "ipython",
    "version": 3
   },
   "file_extension": ".py",
   "mimetype": "text/x-python",
   "name": "python",
   "nbconvert_exporter": "python",
   "pygments_lexer": "ipython3",
   "version": "3.8.3"
  }
 },
 "nbformat": 4,
 "nbformat_minor": 4
}
